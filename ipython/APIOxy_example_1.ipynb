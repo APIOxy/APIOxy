{
 "cells": [
  {
   "cell_type": "markdown",
   "metadata": {},
   "source": [
    "# APIOxy example notebook"
   ]
  },
  {
   "cell_type": "markdown",
   "metadata": {},
   "source": [
    "## Imports"
   ]
  },
  {
   "cell_type": "code",
   "execution_count": null,
   "metadata": {},
   "outputs": [],
   "source": [
    "from apioxy import APIOxy"
   ]
  },
  {
   "cell_type": "markdown",
   "metadata": {},
   "source": [
    "## Parameters"
   ]
  },
  {
   "cell_type": "code",
   "execution_count": null,
   "metadata": {},
   "outputs": [],
   "source": [
    "apioxy = {'project': 'API_study_1',\n",
    "          'model_level': 2,\n",
    "          'api_structures': [{'label': 'imipramine_v1',\n",
    "                              'smiles': 'CN(C)CCCN1C2=CC=CC=C2CCC3=CC=CC=C31',\n",
    "                              'concentration': 1.89e-6,  # in mol/cm^3\n",
    "                             },\n",
    "                             {'label': 'CJ-11974',\n",
    "                              'smiles': 'COC1=C(CN[C@H]2C3CCN(CC3)[C@H]2C(C2=CC=CC=C2)C2=CC=CC=C2)C=C(C=C1)C(C)C',\n",
    "                              'concentration': 1.45e-6,  # in mol/cm^3\n",
    "                             },\n",
    "                            ],\n",
    "          'zeneth_output_paths': ['path/to/zeneth/output/imipramine.log',\n",
    "                                  'path/to/zeneth/output/CJ-11974.log',\n",
    "                                 ],\n",
    "          'run_in_parallel': False,\n",
    "         }\n",
    "\n",
    "\n",
    "t3 = {'options': {'max_T3_walltime': '05:00:00:00'},  # there are many additional *optional* keywords here\n",
    "     }\n",
    "\n",
    "\n",
    "rmg = {'database': {'thermo_libraries': ['api_soup',\n",
    "                                         'BurkeH2O2',\n",
    "                                         'thermo_DFT_CCSDTF12_BAC',\n",
    "                                         'DFT_QCI_thermo',\n",
    "                                         'primaryThermoLibrary',\n",
    "                                         'CBS_QB3_1dHR',\n",
    "                                         'CurranPentane',\n",
    "                                        ],\n",
    "                    'kinetics_libraries': ['BurkeH2O2inN2',\n",
    "                                           'api_soup',\n",
    "                                           'NOx2018',\n",
    "                                           'Klippenstein_Glarborg2016',\n",
    "                                          ],\n",
    "                   },\n",
    "       'model': {'core_tolerance': [0.20, 0.10, 0.05]},\n",
    "       'reactors': [{'type': 'liquid batch constant T V',\n",
    "                     'T': 273 + 40,  # K\n",
    "                     'termination_time': [72, 'hours'],\n",
    "                    }],\n",
    "       'species': [{'label': 'water',\n",
    "                    'smiles': 'O',\n",
    "                    'concentration': 0.0278,  # in mol/ml\n",
    "                    'solvent': True,  # Solvent\n",
    "                   },\n",
    "                   {'label': 'methanol',\n",
    "                    'smiles': 'CO',\n",
    "                    'concentration': 0.0124,  # in mol/cm^3\n",
    "                   },\n",
    "                   {'label': 'AIBN',\n",
    "                    'smiles': 'CC(C)(C#N)/N=N/C(C)(C)C#N',\n",
    "                    'concentration': 4.900e-6,  # in mol/cm^3\n",
    "                   },\n",
    "                   {'label': 'O2',\n",
    "                    'smiles': '[O][O]',\n",
    "                    'concentration': 2.730e-7,  # in mol/cm^3\n",
    "                    'constant': True,  # Constant concentration\n",
    "                   },\n",
    "                   {'label': 'N2',\n",
    "                    'smiles': 'N#N',\n",
    "                    'concentration': 4.819e-7,  # in mol/cm^3\n",
    "                    'constant': True,  # Constant concentration\n",
    "                   },\n",
    "                  ],\n",
    "      }\n",
    "\n",
    "\n",
    "qm = {'adapter': 'ARC',\n",
    "#       'species': [{'label': 'vinoxy',  # species and reactions can be added here to be calculated at first\n",
    "#                    'smiles': 'C=C[O]',\n",
    "#                   }],\n",
    "     }\n"
   ]
  },
  {
   "cell_type": "markdown",
   "metadata": {},
   "source": [
    "## Execute"
   ]
  },
  {
   "cell_type": "code",
   "execution_count": null,
   "metadata": {
    "scrolled": false
   },
   "outputs": [],
   "source": [
    "apioxy_object = APIOxy(apioxy=apioxy,\n",
    "                       t3=t3,\n",
    "                       rmg=rmg,\n",
    "                       qm=qm,\n",
    "                      )\n",
    "\n",
    "apioxy_object.execute()"
   ]
  },
  {
   "cell_type": "code",
   "execution_count": null,
   "metadata": {},
   "outputs": [],
   "source": []
  }
 ],
 "metadata": {
  "kernelspec": {
   "display_name": "Python 3",
   "language": "python",
   "name": "python3"
  },
  "language_info": {
   "codemirror_mode": {
    "name": "ipython",
    "version": 3
   },
   "file_extension": ".py",
   "mimetype": "text/x-python",
   "name": "python",
   "nbconvert_exporter": "python",
   "pygments_lexer": "ipython3",
   "version": "3.7.7"
  }
 },
 "nbformat": 4,
 "nbformat_minor": 4
}
